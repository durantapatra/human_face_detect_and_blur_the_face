{
 "cells": [
  {
   "cell_type": "code",
   "execution_count": 1,
   "id": "95558475",
   "metadata": {},
   "outputs": [],
   "source": [
    "import cv2"
   ]
  },
  {
   "cell_type": "code",
   "execution_count": 2,
   "id": "de37e3df",
   "metadata": {},
   "outputs": [],
   "source": [
    "cap = cv2.VideoCapture(0) \n",
    "model = cv2.CascadeClassifier('haarcascade_frontalface_default.xml')"
   ]
  },
  {
   "cell_type": "code",
   "execution_count": null,
   "id": "d1ed53a5",
   "metadata": {},
   "outputs": [],
   "source": []
  },
  {
   "cell_type": "code",
   "execution_count": 3,
   "id": "ce48801e",
   "metadata": {},
   "outputs": [],
   "source": [
    "def face_detect_blur(photo):\n",
    "    face = model.detectMultiScale(photo)\n",
    "    if len(face) != 0:\n",
    "        for nface in face:\n",
    "            crop_photo = cv2.blur(photo[nface[1]:nface[1]+nface[3],nface[0]:nface[0]+nface[2]],(20,20))\n",
    "            photo[nface[1]:nface[1]+nface[3],nface[0]:nface[0]+nface[2]] = crop_photo\n",
    "        return photo\n",
    "    else:\n",
    "        return photo"
   ]
  },
  {
   "cell_type": "code",
   "execution_count": 4,
   "id": "03691213",
   "metadata": {},
   "outputs": [],
   "source": [
    "while True:\n",
    "    ret , photo=cap.read()\n",
    "    cv2.imshow('Face Window',face_detect_blur(photo))\n",
    "    if cv2.waitKey(10) == 13 :\n",
    "        break\n",
    "cv2.destroyAllWindows()"
   ]
  },
  {
   "cell_type": "code",
   "execution_count": null,
   "id": "f3dba889",
   "metadata": {},
   "outputs": [],
   "source": []
  },
  {
   "cell_type": "code",
   "execution_count": 5,
   "id": "373c530f",
   "metadata": {},
   "outputs": [],
   "source": [
    "cap.release()"
   ]
  },
  {
   "cell_type": "code",
   "execution_count": null,
   "id": "9b144179",
   "metadata": {},
   "outputs": [],
   "source": []
  }
 ],
 "metadata": {
  "kernelspec": {
   "display_name": "Python 3",
   "language": "python",
   "name": "python3"
  },
  "language_info": {
   "codemirror_mode": {
    "name": "ipython",
    "version": 3
   },
   "file_extension": ".py",
   "mimetype": "text/x-python",
   "name": "python",
   "nbconvert_exporter": "python",
   "pygments_lexer": "ipython3",
   "version": "3.8.8"
  }
 },
 "nbformat": 4,
 "nbformat_minor": 5
}
